{
 "cells": [
  {
   "cell_type": "code",
   "execution_count": 13,
   "id": "bfb4245e",
   "metadata": {},
   "outputs": [
    {
     "name": "stdout",
     "output_type": "stream",
     "text": [
      "       CR                                 Sucursal             Divisi�n  \\\n",
      "0       7                          D.F. CHURUBUSCO    METROPOLITANA SUR   \n",
      "1       8                              D.F. MERCED    METROPOLITANA SUR   \n",
      "2       9                               LAS TORRES  METROPOLITANA NORTE   \n",
      "3      11                                 TLANEMEX  METROPOLITANA NORTE   \n",
      "4      14                              D.F. ERMITA    METROPOLITANA SUR   \n",
      "..    ...                                      ...                  ...   \n",
      "883  6603                      TIJUANA UNIVERSIDAD             NOROESTE   \n",
      "884  6614  CD. JUAREZ MODULO ADUANA PUENTE CORDOVA             NOROESTE   \n",
      "885  6758                    URUAPAN BENITO JUAREZ   REGIONAL OCCIDENTE   \n",
      "886  6812           CABO SAN LUCAS OFNA. PRINCIPAL    REGIONAL NOROESTE   \n",
      "887  6865                           CHIHUAHUA 2000             NOROESTE   \n",
      "\n",
      "                    Zona  \n",
      "0          BENITO JUAREZ  \n",
      "1                 CENTRO  \n",
      "2                VALLEJO  \n",
      "3               SATELITE  \n",
      "4             IZTAPALAPA  \n",
      "..                   ...  \n",
      "883        TIJUANA PLAZA  \n",
      "884               JUAREZ  \n",
      "885              URUAPAN  \n",
      "886  BAJA CALIFORNIA SUR  \n",
      "887      CHIHUAHUA PLAZA  \n",
      "\n",
      "[888 rows x 4 columns]\n"
     ]
    }
   ],
   "source": [
    "import pandas as pd\n",
    "saldos = pd.read_csv('Saldos_Atms_Sucursales.csv',delimiter='|')\n",
    "buc = pd.read_csv('BUC.csv',delimiter='|')\n",
    "fallas = pd.read_csv('Fallas_cajeros.csv',delimiter='|')\n",
    "cerrados = pd.read_csv('Sucursales_cerradas_COVID19.csv',delimiter='|')\n",
    "#saldos.to_csv('df_Saldos.csv')\n",
    "print(cerrados)"
   ]
  }
 ],
 "metadata": {
  "kernelspec": {
   "display_name": "Python 3",
   "language": "python",
   "name": "python3"
  },
  "language_info": {
   "codemirror_mode": {
    "name": "ipython",
    "version": 3
   },
   "file_extension": ".py",
   "mimetype": "text/x-python",
   "name": "python",
   "nbconvert_exporter": "python",
   "pygments_lexer": "ipython3",
   "version": "3.8.8"
  }
 },
 "nbformat": 4,
 "nbformat_minor": 5
}
