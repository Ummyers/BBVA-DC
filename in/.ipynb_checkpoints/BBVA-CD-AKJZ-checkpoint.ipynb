{
 "cells": [
  {
   "cell_type": "code",
   "execution_count": 1,
   "id": "d85bd9d4",
   "metadata": {},
   "outputs": [],
   "source": [
    "import pandas as pd\n",
    "import numpy as np\n",
    "saldos = pd.read_csv('Saldos_Atms_Sucursales.csv',delimiter='|')\n",
    "buc = pd.read_csv('BUC.csv',delimiter='|')\n",
    "fallas = pd.read_csv('Fallas_cajeros.csv',delimiter='|')\n",
    "cerrados = pd.read_csv('Sucursales_cerradas_COVID19.csv',delimiter='|')\n",
    "\n",
    "saldoTotal = (saldos['CAS_1']*saldos['PIEZAS_CAS_1']) + (saldos['CAS_2']*saldos['PIEZAS_CAS_2']) + (saldos['CAS_3']*saldos['PIEZAS_CAS_3']) + (saldos['CAS_4']*saldos['PIEZAS_CAS_4'])\n",
    "saldos['saldoTotal'] = saldoTotal\n",
    "\n",
    "# Depuracion de Dataframe\n",
    "\n",
    "saldoTotalD = saldoTotal.dropna()\n",
    "\n",
    "saldosEntregable = pd.Series(saldoTotalD)\n",
    "#saldos.to_csv('df_Saldos.csv')\n",
    "#saldosEntregable.to_csv('Saldos_Entregable.csv')\n",
    "#print(cerrados['DIVISION'])"
   ]
  },
  {
   "cell_type": "code",
   "execution_count": 2,
   "id": "562a91a0",
   "metadata": {},
   "outputs": [],
   "source": [
    "# Dataframe - con solo información de ATM y saldoTotal\n",
    "\n",
    "import pandas as pd\n",
    "import numpy as np\n",
    "saldos = pd.read_csv('Saldos_Atms_Sucursales.csv',delimiter='|')\n",
    "\n",
    "saldoTotal = (saldos['CAS_1']*saldos['PIEZAS_CAS_1']) + (saldos['CAS_2']*saldos['PIEZAS_CAS_2']) + (saldos['CAS_3']*saldos['PIEZAS_CAS_3']) + (saldos['CAS_4']*saldos['PIEZAS_CAS_4'])\n",
    "saldos['saldoTotal'] = saldoTotal\n",
    "\n",
    "# Depuracion de Dataframe\n",
    "\n",
    "saldoTotalD = saldoTotal.dropna()\n",
    "\n",
    "saldosEntregable = pd.Series(saldoTotalD)\n",
    "#saldos.to_csv('df_Saldos.csv')\n",
    "#saldosEntregable.to_csv('Saldos_Entregable.csv')\n",
    "#print(cerrados['DIVISION'])"
   ]
  }
 ],
 "metadata": {
  "kernelspec": {
   "display_name": "Python 3",
   "language": "python",
   "name": "python3"
  },
  "language_info": {
   "codemirror_mode": {
    "name": "ipython",
    "version": 3
   },
   "file_extension": ".py",
   "mimetype": "text/x-python",
   "name": "python",
   "nbconvert_exporter": "python",
   "pygments_lexer": "ipython3",
   "version": "3.8.8"
  }
 },
 "nbformat": 4,
 "nbformat_minor": 5
}
