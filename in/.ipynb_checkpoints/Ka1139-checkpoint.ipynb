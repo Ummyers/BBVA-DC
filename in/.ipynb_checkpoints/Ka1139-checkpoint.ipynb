{
 "cells": [
  {
   "cell_type": "code",
   "execution_count": 12,
   "id": "bfb4245e",
   "metadata": {
    "scrolled": true
   },
   "outputs": [
    {
     "name": "stdout",
     "output_type": "stream",
     "text": [
      "       ATM      Total    OK criticidad\n",
      "0     A023  1195000.0    OK           \n",
      "1     A024   440000.0  Fail           \n",
      "2     D015   961780.0    OK           \n",
      "3     D016   825680.0    OK           \n",
      "4     0181  1143000.0    OK           \n",
      "...    ...        ...   ...        ...\n",
      "9557  1111  1668600.0    OK           \n",
      "9558  1135  1625200.0    OK           \n",
      "9559  1881   579400.0  Fail           \n",
      "9560  4897   534220.0    OK           \n",
      "9561  4916   488020.0  Fail           \n",
      "\n",
      "[9562 rows x 4 columns]\n"
     ]
    }
   ],
   "source": [
    "#Importamos lo necesario para trabajar\n",
    "import pandas as pd\n",
    "import numpy as np\n",
    "\n",
    "#Se extraen los valores de los Insumos\n",
    "saldos = pd.read_csv('Saldos_Atms_Sucursales.csv',delimiter='|')\n",
    "buc = pd.read_csv('BUC.csv',delimiter='|')\n",
    "fallas = pd.read_csv('Fallas_cajeros.csv',delimiter='|')\n",
    "cerrados = pd.read_csv('Sucursales_cerradas_COVID19.csv',delimiter='|')\n",
    "\n",
    "\n",
    "saldoTotal = (saldos['CAS_1']*saldos['PIEZAS_CAS_1']) + (saldos['CAS_2']*saldos['PIEZAS_CAS_2']) + (saldos['CAS_3']*saldos['PIEZAS_CAS_3']) + (saldos['CAS_4']*saldos['PIEZAS_CAS_4'])\n",
    "saldos['saldoTotal'] = saldoTotal\n",
    "saldoDivision = saldos.groupby('DIVISION')['saldoTotal'].sum()\n",
    "#saldoDivision.to_csv('SaldoDivision.csv')\n",
    "\n",
    "saldos['saldosOK'] = np.where(saldos['saldoTotal'] > saldos['MINIMO'], 'OK', 'Fail')\n",
    "\n",
    "\n",
    "# Se termina el estado de criticidad de un cajero automatico\n",
    "#  con los términos de criticidad establecidos en los requerimientos\n",
    "\n",
    "saldos['criticidad'] = np.where((saldos['saldoTotal'] < ((saldos['MINIMO']*75)/100)), 'A', '')\n",
    "saldos['criticidad'] = np.where((saldos['saldoTotal'] < ((saldos['MINIMO']*50)/100)), 'B', '')\n",
    "saldos['criticidad'] = np.where((saldos['saldoTotal'] < ((saldos['MINIMO']*25)/100)), 'C', '')\n",
    "\n",
    "#Se crea el Data con las columnas necesarias.\n",
    "saldosEntregable = {'ATM':saldos['ATM'],'Total':saldos['saldoTotal'],'OK':saldos['saldosOK'], 'criticidad':saldos['criticidad']}\n",
    "\n",
    "# Depurar datos \n",
    "saldosEntregable = pd.DataFrame(saldosEntregable).dropna()\n",
    "\n",
    "#Se crea un archivo de salida del data frame\n",
    "saldosEntregable.to_csv('Saldos_Entregable.csv')\n",
    "\n",
    "#saldos.to_csv('df_Saldos.csv')\n",
    "\n",
    "print(saldosEntregable)"
   ]
  },
  {
   "cell_type": "code",
   "execution_count": 4,
   "id": "55024319",
   "metadata": {},
   "outputs": [
    {
     "name": "stdout",
     "output_type": "stream",
     "text": [
      "0       1195000.0\n",
      "1        440000.0\n",
      "2        961780.0\n",
      "3        825680.0\n",
      "4       1143000.0\n",
      "          ...    \n",
      "9757          NaN\n",
      "9758          NaN\n",
      "9759          NaN\n",
      "9760          NaN\n",
      "9761          NaN\n",
      "Length: 9762, dtype: float64\n"
     ]
    }
   ],
   "source": [
    "print(saldoTotal)"
   ]
  },
  {
   "cell_type": "code",
   "execution_count": null,
   "id": "d2a0bbe2",
   "metadata": {},
   "outputs": [],
   "source": []
  }
 ],
 "metadata": {
  "kernelspec": {
   "display_name": "Python 3",
   "language": "python",
   "name": "python3"
  },
  "language_info": {
   "codemirror_mode": {
    "name": "ipython",
    "version": 3
   },
   "file_extension": ".py",
   "mimetype": "text/x-python",
   "name": "python",
   "nbconvert_exporter": "python",
   "pygments_lexer": "ipython3",
   "version": "3.8.8"
  }
 },
 "nbformat": 4,
 "nbformat_minor": 5
}
