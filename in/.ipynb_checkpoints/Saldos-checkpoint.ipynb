{
 "cells": [
  {
   "cell_type": "code",
   "execution_count": 17,
   "id": "bfb4245e",
   "metadata": {},
   "outputs": [
    {
     "name": "stdout",
     "output_type": "stream",
     "text": [
      "0       1195000.0\n",
      "1        440000.0\n",
      "2        961780.0\n",
      "3        825680.0\n",
      "4       1143000.0\n",
      "          ...    \n",
      "9757          NaN\n",
      "9758          NaN\n",
      "9759          NaN\n",
      "9760          NaN\n",
      "9761          NaN\n",
      "Length: 9762, dtype: float64\n"
     ]
    },
    {
     "ename": "TypeError",
     "evalue": "Keyword arguments `items`, `like`, or `regex` are mutually exclusive",
     "output_type": "error",
     "traceback": [
      "\u001b[0;31m---------------------------------------------------------------------------\u001b[0m",
      "\u001b[0;31mTypeError\u001b[0m                                 Traceback (most recent call last)",
      "\u001b[0;32m<ipython-input-17-2ddea72e0f12>\u001b[0m in \u001b[0;36m<module>\u001b[0;34m\u001b[0m\n\u001b[1;32m     17\u001b[0m \u001b[0msaldoTotalPrima\u001b[0m \u001b[0;34m=\u001b[0m \u001b[0msaldos\u001b[0m\u001b[0;34m.\u001b[0m\u001b[0mgroupby\u001b[0m\u001b[0;34m(\u001b[0m\u001b[0;34m'DIVISION'\u001b[0m\u001b[0;34m)\u001b[0m\u001b[0;34m.\u001b[0m\u001b[0mcount\u001b[0m\u001b[0;34m(\u001b[0m\u001b[0;34m)\u001b[0m\u001b[0;34m\u001b[0m\u001b[0;34m\u001b[0m\u001b[0m\n\u001b[1;32m     18\u001b[0m \u001b[0;34m\u001b[0m\u001b[0m\n\u001b[0;32m---> 19\u001b[0;31m \u001b[0msaldoTotal2\u001b[0m \u001b[0;34m=\u001b[0m \u001b[0msaldoTotal\u001b[0m\u001b[0;34m.\u001b[0m\u001b[0mfilter\u001b[0m\u001b[0;34m(\u001b[0m\u001b[0;34m[\u001b[0m\u001b[0;34m'ATM'\u001b[0m\u001b[0;34m]\u001b[0m\u001b[0;34m,\u001b[0m\u001b[0;34m[\u001b[0m\u001b[0;34m'DIVISION'\u001b[0m\u001b[0;34m]\u001b[0m\u001b[0;34m)\u001b[0m\u001b[0;34m\u001b[0m\u001b[0;34m\u001b[0m\u001b[0m\n\u001b[0m\u001b[1;32m     20\u001b[0m \u001b[0;34m\u001b[0m\u001b[0m\n\u001b[1;32m     21\u001b[0m \u001b[0;34m\u001b[0m\u001b[0m\n",
      "\u001b[0;32m~/anaconda3/lib/python3.8/site-packages/pandas/core/generic.py\u001b[0m in \u001b[0;36mfilter\u001b[0;34m(self, items, like, regex, axis)\u001b[0m\n\u001b[1;32m   4963\u001b[0m         \u001b[0mnkw\u001b[0m \u001b[0;34m=\u001b[0m \u001b[0mcom\u001b[0m\u001b[0;34m.\u001b[0m\u001b[0mcount_not_none\u001b[0m\u001b[0;34m(\u001b[0m\u001b[0mitems\u001b[0m\u001b[0;34m,\u001b[0m \u001b[0mlike\u001b[0m\u001b[0;34m,\u001b[0m \u001b[0mregex\u001b[0m\u001b[0;34m)\u001b[0m\u001b[0;34m\u001b[0m\u001b[0;34m\u001b[0m\u001b[0m\n\u001b[1;32m   4964\u001b[0m         \u001b[0;32mif\u001b[0m \u001b[0mnkw\u001b[0m \u001b[0;34m>\u001b[0m \u001b[0;36m1\u001b[0m\u001b[0;34m:\u001b[0m\u001b[0;34m\u001b[0m\u001b[0;34m\u001b[0m\u001b[0m\n\u001b[0;32m-> 4965\u001b[0;31m             raise TypeError(\n\u001b[0m\u001b[1;32m   4966\u001b[0m                 \u001b[0;34m\"Keyword arguments `items`, `like`, or `regex` \"\u001b[0m\u001b[0;34m\u001b[0m\u001b[0;34m\u001b[0m\u001b[0m\n\u001b[1;32m   4967\u001b[0m                 \u001b[0;34m\"are mutually exclusive\"\u001b[0m\u001b[0;34m\u001b[0m\u001b[0;34m\u001b[0m\u001b[0m\n",
      "\u001b[0;31mTypeError\u001b[0m: Keyword arguments `items`, `like`, or `regex` are mutually exclusive"
     ]
    }
   ],
   "source": [
    "import pandas as pd\n",
    "\n",
    "saldos = pd.read_csv('Saldos_Atms_Sucursales.csv',delimiter='|')\n",
    "buc = pd.read_csv('BUC.csv',delimiter='|')\n",
    "fallas = pd.read_csv('Fallas_cajeros.csv',delimiter='|')\n",
    "cerrados = pd.read_csv('Sucursales_cerradas_COVID19.csv',delimiter='|')\n",
    "\n",
    "fallas = pd.read_csv('Fallas_cajeros.csv',delimiter='|')\n",
    "cerrados = pd.read_csv('Sucursales_cerradas_COVID19.csv',delimiter='|')\n",
    "saldoTotal = (saldos['CAS_1']*saldos['PIEZAS_CAS_1']) + (saldos['CAS_2']*saldos['PIEZAS_CAS_2']) + (saldos['CAS_3']*saldos['PIEZAS_CAS_3']) + (saldos['CAS_4']*saldos['PIEZAS_CAS_4'])\n",
    "\n",
    "\n",
    "saldosEntregable = pd.Series(saldoTotal)\n",
    "saldosEntregable.to_csv('Saldos_Entregable.csv')\n",
    "print(saldoTotal)\n",
    "\n",
    "saldoTotalPrima = saldos.groupby('DIVISION').count()\n",
    "\n",
    "saldoTotal2 = saldoTotal.filter(['ATM'])\n",
    "\n",
    "\n",
    "# se agrega el trabajar con el archivo Saldos_Entregable \n",
    "saldoTotalCVS = pd.read_csv('Saldos_Entregable.csv', delimiter = ',')\n",
    "\n",
    "\n",
    "\n",
    "\n"
   ]
  },
  {
   "cell_type": "code",
   "execution_count": 14,
   "id": "ceb42db1",
   "metadata": {},
   "outputs": [
    {
     "name": "stdout",
     "output_type": "stream",
     "text": [
      "       CR   ATM             SUCURSAL      DIVISION             ZONA  CAS_1  \\\n",
      "0     4.0  A023  NAUCALPAN PERIFERICO  METRO NORTE     INTERLOMAS 2  100.0   \n",
      "1     4.0  A024  NAUCALPAN PERIFERICO  METRO NORTE     INTERLOMAS 2  100.0   \n",
      "2     4.0  D015  NAUCALPAN PERIFERICO  METRO NORTE     INTERLOMAS 2   20.0   \n",
      "3     4.0  D016  NAUCALPAN PERIFERICO  METRO NORTE     INTERLOMAS 2   20.0   \n",
      "4     7.0  0181       D.F. CHURUBUSCO    METRO SUR  BENITO JUAREZ 1  100.0   \n",
      "...   ...   ...                   ...          ...              ...    ...   \n",
      "9757  NaN   NaN                   NaN          NaN              NaN    NaN   \n",
      "9758  NaN   NaN                   NaN          NaN              NaN    NaN   \n",
      "9759  NaN   NaN                   NaN          NaN              NaN    NaN   \n",
      "9760  NaN   NaN                   NaN          NaN              NaN    NaN   \n",
      "9761  NaN   NaN                   NaN          NaN              NaN    NaN   \n",
      "\n",
      "      CAS_2  CAS_3  CAS_4  PIEZAS_CAS_1  PIEZAS_CAS_2  PIEZAS_CAS_3  \\\n",
      "0     200.0  200.0  500.0         645.0         333.0         607.0   \n",
      "1     200.0  200.0  500.0          12.0         515.0         749.0   \n",
      "2     100.0  200.0  500.0         459.0         992.0        1282.0   \n",
      "3     100.0  200.0  500.0         539.0         431.0         734.0   \n",
      "4     200.0  500.0  500.0        1717.0        1794.0         721.0   \n",
      "...     ...    ...    ...           ...           ...           ...   \n",
      "9757    NaN    NaN    NaN           NaN           NaN           NaN   \n",
      "9758    NaN    NaN    NaN           NaN           NaN           NaN   \n",
      "9759    NaN    NaN    NaN           NaN           NaN           NaN   \n",
      "9760    NaN    NaN    NaN           NaN           NaN           NaN   \n",
      "9761    NaN    NaN    NaN           NaN           NaN           NaN   \n",
      "\n",
      "      PIEZAS_CAS_4    MINIMO  \n",
      "0           1885.0  450000.0  \n",
      "1            372.0  450000.0  \n",
      "2           1194.0  516000.0  \n",
      "3           1250.0  510000.0  \n",
      "4            504.0  585000.0  \n",
      "...            ...       ...  \n",
      "9757           NaN       NaN  \n",
      "9758           NaN       NaN  \n",
      "9759           NaN       NaN  \n",
      "9760           NaN       NaN  \n",
      "9761           NaN       NaN  \n",
      "\n",
      "[9762 rows x 14 columns]\n"
     ]
    }
   ],
   "source": [
    "print(saldos)"
   ]
  },
  {
   "cell_type": "code",
   "execution_count": 12,
   "id": "af0cab88",
   "metadata": {},
   "outputs": [
    {
     "name": "stdout",
     "output_type": "stream",
     "text": [
      "               CR   ATM  SUCURSAL   ZONA  CAS_1  CAS_2  CAS_3  CAS_4  \\\n",
      "DIVISION                                                               \n",
      "BAJIO        1230  1230       1230  1230   1230   1230   1230   1230   \n",
      "METRO NORTE  1337  1337       1337  1337   1337   1337   1337   1337   \n",
      "METRO SUR    1265  1265       1265  1265   1265   1265   1265   1265   \n",
      "NORESTE      1001  1001       1001  1001   1001   1001   1001   1001   \n",
      "NOROESTE     1151  1151       1151  1151   1151   1151   1151   1151   \n",
      "OCCIDENTE    1546  1546       1546  1546   1546   1546   1546   1546   \n",
      "SUR          1303  1303       1303  1303   1303   1303   1303   1303   \n",
      "SURESTE       729   729        729   729    729    729    729    729   \n",
      "\n",
      "             PIEZAS_CAS_1  PIEZAS_CAS_2  PIEZAS_CAS_3  PIEZAS_CAS_4  MINIMO  \n",
      "DIVISION                                                                     \n",
      "BAJIO                1230          1230          1230          1230    1230  \n",
      "METRO NORTE          1337          1337          1337          1337    1337  \n",
      "METRO SUR            1265          1265          1265          1265    1265  \n",
      "NORESTE              1001          1001          1001          1001    1001  \n",
      "NOROESTE             1151          1151          1151          1151    1151  \n",
      "OCCIDENTE            1546          1546          1546          1546    1546  \n",
      "SUR                  1303          1303          1303          1303    1303  \n",
      "SURESTE               729           729           729           729     729  \n"
     ]
    }
   ],
   "source": [
    "print(saldoTotalPrima)"
   ]
  }
 ],
 "metadata": {
  "kernelspec": {
   "display_name": "Python 3",
   "language": "python",
   "name": "python3"
  },
  "language_info": {
   "codemirror_mode": {
    "name": "ipython",
    "version": 3
   },
   "file_extension": ".py",
   "mimetype": "text/x-python",
   "name": "python",
   "nbconvert_exporter": "python",
   "pygments_lexer": "ipython3",
   "version": "3.8.8"
  }
 },
 "nbformat": 4,
 "nbformat_minor": 5
}
