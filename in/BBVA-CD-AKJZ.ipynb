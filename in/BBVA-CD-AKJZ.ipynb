{
 "cells": [
  {
   "cell_type": "code",
   "execution_count": 3,
   "id": "c043955f",
   "metadata": {},
   "outputs": [],
   "source": [
    "# Dataframe - con solo información de ATM y saldoTotal\n",
    "\n",
    "import pandas as pd\n",
    "import numpy as np\n",
    "saldos = pd.read_csv('Saldos_Atms_Sucursales.csv',delimiter='|')\n",
    "\n",
    "saldoTotal = (saldos['CAS_1']*saldos['PIEZAS_CAS_1']) + (saldos['CAS_2']*saldos['PIEZAS_CAS_2']) + (saldos['CAS_3']*saldos['PIEZAS_CAS_3']) + (saldos['CAS_4']*saldos['PIEZAS_CAS_4'])\n",
    "saldos['saldoTotal'] = saldoTotal\n",
    "\n",
    "# Depuracion de Dataframe\n",
    "\n",
    "saldoTotalD = saldoTotal.dropna()\n",
    "\n",
    "saldosEntregable = pd.Series(saldoTotalD)\n",
    "#saldos.to_csv('df_Saldos.csv')\n",
    "#saldosEntregable.to_csv('Saldos_Entregable.csv')\n",
    "#print(cerrados['DIVISION'])"
   ]
  },
  {
   "cell_type": "code",
   "execution_count": 4,
   "id": "62536638",
   "metadata": {},
   "outputs": [
    {
     "name": "stdout",
     "output_type": "stream",
     "text": [
      "0       1195000.0\n",
      "1        440000.0\n",
      "2        961780.0\n",
      "3        825680.0\n",
      "4       1143000.0\n",
      "          ...    \n",
      "9557    1668600.0\n",
      "9558    1625200.0\n",
      "9559     579400.0\n",
      "9560     534220.0\n",
      "9561     488020.0\n",
      "Length: 9562, dtype: float64\n"
     ]
    }
   ],
   "source": [
    "print(saldoTotalD)"
   ]
  },
  {
   "cell_type": "code",
   "execution_count": 5,
   "id": "65fe9f7e",
   "metadata": {},
   "outputs": [],
   "source": [
    "caDiv = saldos.filter(['ATM','DIVISION']).dropna()\n",
    "\n",
    "saldoTotalClean = saldoTotal.dropna()"
   ]
  },
  {
   "cell_type": "code",
   "execution_count": null,
   "id": "0d7ba7ea",
   "metadata": {},
   "outputs": [],
   "source": []
  }
 ],
 "metadata": {
  "kernelspec": {
   "display_name": "Python 3",
   "language": "python",
   "name": "python3"
  },
  "language_info": {
   "codemirror_mode": {
    "name": "ipython",
    "version": 3
   },
   "file_extension": ".py",
   "mimetype": "text/x-python",
   "name": "python",
   "nbconvert_exporter": "python",
   "pygments_lexer": "ipython3",
   "version": "3.8.8"
  }
 },
 "nbformat": 4,
 "nbformat_minor": 5
}
