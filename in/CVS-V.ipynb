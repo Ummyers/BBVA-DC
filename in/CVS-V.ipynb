{
 "cells": [
  {
   "cell_type": "code",
   "execution_count": 5,
   "id": "bfb4245e",
   "metadata": {},
   "outputs": [
    {
     "name": "stdout",
     "output_type": "stream",
     "text": [
      "       CR                                 Sucursal             Divisi�n  \\\n",
      "0       7                          D.F. CHURUBUSCO    METROPOLITANA SUR   \n",
      "1       8                              D.F. MERCED    METROPOLITANA SUR   \n",
      "2       9                               LAS TORRES  METROPOLITANA NORTE   \n",
      "3      11                                 TLANEMEX  METROPOLITANA NORTE   \n",
      "4      14                              D.F. ERMITA    METROPOLITANA SUR   \n",
      "..    ...                                      ...                  ...   \n",
      "883  6603                      TIJUANA UNIVERSIDAD             NOROESTE   \n",
      "884  6614  CD. JUAREZ MODULO ADUANA PUENTE CORDOVA             NOROESTE   \n",
      "885  6758                    URUAPAN BENITO JUAREZ   REGIONAL OCCIDENTE   \n",
      "886  6812           CABO SAN LUCAS OFNA. PRINCIPAL    REGIONAL NOROESTE   \n",
      "887  6865                           CHIHUAHUA 2000             NOROESTE   \n",
      "\n",
      "                    Zona  \n",
      "0          BENITO JUAREZ  \n",
      "1                 CENTRO  \n",
      "2                VALLEJO  \n",
      "3               SATELITE  \n",
      "4             IZTAPALAPA  \n",
      "..                   ...  \n",
      "883        TIJUANA PLAZA  \n",
      "884               JUAREZ  \n",
      "885              URUAPAN  \n",
      "886  BAJA CALIFORNIA SUR  \n",
      "887      CHIHUAHUA PLAZA  \n",
      "\n",
      "[888 rows x 4 columns]\n"
     ]
    }
   ],
   "source": [
    "import pandas as pd\n",
    "saldos = pd.read_csv('Saldos_Atms_Sucursales.csv',delimiter='|')\n",
    "buc = pd.read_csv('BUC.csv',delimiter='|')\n",
    "fallas = pd.read_csv('Fallas_cajeros.csv',delimiter='|')\n",
    "cerrados = pd.read_csv('Sucursales_cerradas_COVID19.csv',delimiter='|')\n",
    "#saldos.to_csv('df_Saldos.csv')\n",
    "print(cerrados)\n"
   ]
  },
  {
   "cell_type": "code",
   "execution_count": null,
   "id": "48e76e4f",
   "metadata": {},
   "outputs": [],
   "source": []
  },
  {
   "cell_type": "code",
   "execution_count": 2,
   "id": "32a7523a",
   "metadata": {},
   "outputs": [
    {
     "name": "stdout",
     "output_type": "stream",
     "text": [
      "       CR   ATM             SUCURSAL      DIVISION             ZONA  CAS_1  \\\n",
      "0     4.0  A023  NAUCALPAN PERIFERICO  METRO NORTE     INTERLOMAS 2  100.0   \n",
      "1     4.0  A024  NAUCALPAN PERIFERICO  METRO NORTE     INTERLOMAS 2  100.0   \n",
      "2     4.0  D015  NAUCALPAN PERIFERICO  METRO NORTE     INTERLOMAS 2   20.0   \n",
      "3     4.0  D016  NAUCALPAN PERIFERICO  METRO NORTE     INTERLOMAS 2   20.0   \n",
      "4     7.0  0181       D.F. CHURUBUSCO    METRO SUR  BENITO JUAREZ 1  100.0   \n",
      "...   ...   ...                   ...          ...              ...    ...   \n",
      "9757  NaN   NaN                   NaN          NaN              NaN    NaN   \n",
      "9758  NaN   NaN                   NaN          NaN              NaN    NaN   \n",
      "9759  NaN   NaN                   NaN          NaN              NaN    NaN   \n",
      "9760  NaN   NaN                   NaN          NaN              NaN    NaN   \n",
      "9761  NaN   NaN                   NaN          NaN              NaN    NaN   \n",
      "\n",
      "      CAS_2  CAS_3  CAS_4  PIEZAS_CAS_1  PIEZAS_CAS_2  PIEZAS_CAS_3  \\\n",
      "0     200.0  200.0  500.0         645.0         333.0         607.0   \n",
      "1     200.0  200.0  500.0          12.0         515.0         749.0   \n",
      "2     100.0  200.0  500.0         459.0         992.0        1282.0   \n",
      "3     100.0  200.0  500.0         539.0         431.0         734.0   \n",
      "4     200.0  500.0  500.0        1717.0        1794.0         721.0   \n",
      "...     ...    ...    ...           ...           ...           ...   \n",
      "9757    NaN    NaN    NaN           NaN           NaN           NaN   \n",
      "9758    NaN    NaN    NaN           NaN           NaN           NaN   \n",
      "9759    NaN    NaN    NaN           NaN           NaN           NaN   \n",
      "9760    NaN    NaN    NaN           NaN           NaN           NaN   \n",
      "9761    NaN    NaN    NaN           NaN           NaN           NaN   \n",
      "\n",
      "      PIEZAS_CAS_4    MINIMO  \n",
      "0           1885.0  450000.0  \n",
      "1            372.0  450000.0  \n",
      "2           1194.0  516000.0  \n",
      "3           1250.0  510000.0  \n",
      "4            504.0  585000.0  \n",
      "...            ...       ...  \n",
      "9757           NaN       NaN  \n",
      "9758           NaN       NaN  \n",
      "9759           NaN       NaN  \n",
      "9760           NaN       NaN  \n",
      "9761           NaN       NaN  \n",
      "\n",
      "[9762 rows x 14 columns]\n"
     ]
    }
   ],
   "source": [
    "print(saldos)"
   ]
  },
  {
   "cell_type": "code",
   "execution_count": 3,
   "id": "776def6c",
   "metadata": {},
   "outputs": [
    {
     "name": "stdout",
     "output_type": "stream",
     "text": [
      "             SK   ATM   Marca       Modelo Tipo_dispositivo Tipo_monitor  \\\n",
      "0         23536  0002  STRONG  LEVIOSA 522      EFECTIBANCO      BOTONES   \n",
      "1         40655  0004  STRONG  LEVIOSA 522      EFECTIBANCO      BOTONES   \n",
      "2         50302  0005  STRONG  LEVIOSA 522      EFECTIBANCO      BOTONES   \n",
      "3         66062  0006  STRONG  LEVIOSA 522      EFECTIBANCO      BOTONES   \n",
      "4         70302  0007  STRONG  LEVIOSA 522      EFECTIBANCO      BOTONES   \n",
      "...         ...   ...     ...          ...              ...          ...   \n",
      "14802  L3555765  L355    DUTY  NINBUS 2000         ALLINONE       TACTIL   \n",
      "14803  L3565765  L356    DUTY  NINBUS 2000         ALLINONE       TACTIL   \n",
      "14804  L3575765  L357    DUTY  NINBUS 2000         ALLINONE       TACTIL   \n",
      "14805  L3585765  L358    DUTY  NINBUS 2000         ALLINONE       TACTIL   \n",
      "14806  L3615809  L361    DUTY  NINBUS 2000         ALLINONE       TACTIL   \n",
      "\n",
      "      Estatus_dispositivo Sistema_Operativo Denominacion_caseteros  \\\n",
      "0                  ACTIVO        WINDOWS 10        100 200 200 500   \n",
      "1                BAJA DEF        WINDOWS 10        100 200 500 500   \n",
      "2                  ACTIVO        WINDOWS 10        100 200 500 500   \n",
      "3                  ACTIVO        WINDOWS 10        100 200 500 500   \n",
      "4                  ACTIVO        WINDOWS 10        100 200 500 500   \n",
      "...                   ...               ...                    ...   \n",
      "14802            BAJA DEF              UNIX                    NaN   \n",
      "14803            BAJA DEF              UNIX                    NaN   \n",
      "14804            BAJA DEF              UNIX                    NaN   \n",
      "14805            BAJA DEF              UNIX                    NaN   \n",
      "14806            BAJA DEF              UNIX                    NaN   \n",
      "\n",
      "         Biometrico                    Geolocaliza  \n",
      "0      NO INSTALADO         19.388584  -99.2479053  \n",
      "1         INSTALADO  29.0880920999999  -110.957578  \n",
      "2         INSTALADO  20.5203228  -100.823190399999  \n",
      "3      NO INSTALADO  21.3413519  -97.6819429999999  \n",
      "4         INSTALADO  20.5203228  -100.823190399999  \n",
      "...             ...                            ...  \n",
      "14802           NaN                         NA  NA  \n",
      "14803           NaN                         NA  NA  \n",
      "14804           NaN                         NA  NA  \n",
      "14805           NaN                         NA  NA  \n",
      "14806           NaN                         NA  NA  \n",
      "\n",
      "[14807 rows x 11 columns]\n"
     ]
    }
   ],
   "source": [
    "print(buc)"
   ]
  },
  {
   "cell_type": "code",
   "execution_count": 4,
   "id": "72b25566",
   "metadata": {},
   "outputs": [
    {
     "name": "stdout",
     "output_type": "stream",
     "text": [
      "      ATM                FALLA                               CAUSA  \\\n",
      "0    0010         Contingencia       Sin atencion por contingencia   \n",
      "1    0012         Contingencia       Sin atencion por contingencia   \n",
      "2    0013         Contingencia       Sin atencion por contingencia   \n",
      "3    0038         Contingencia       Sin atencion por contingencia   \n",
      "4    0040         Contingencia       Sin atencion por contingencia   \n",
      "..    ...                  ...                                 ...   \n",
      "314  E634  Fallas Otras causas  Error en aceptador de billetes 216   \n",
      "315  E684         Contingencia       Sin atencion por contingencia   \n",
      "316  E687         Contingencia       Sin atencion por contingencia   \n",
      "317  E814         Contingencia       Sin atencion por contingencia   \n",
      "318  E835  Fallas Otras causas               Falla en el cash slot   \n",
      "\n",
      "    FECHA_INICIO HORA_INICIO  FRACCION_HRS_F  HRS_FUERA  FAULTID  \\\n",
      "0     2020-03-31    14:00:00           0.833        197     2364   \n",
      "1     2020-04-02    03:05:01           0.750        160     2364   \n",
      "2     2020-04-08    18:58:59           0.866          1     2364   \n",
      "3     2020-03-23    10:18:06           0.533        393     2364   \n",
      "4     2020-03-21    18:11:02           0.649        433     2364   \n",
      "..           ...         ...             ...        ...      ...   \n",
      "314   2020-04-08    15:28:32           0.366          5      216   \n",
      "315   2020-04-08    19:55:47           0.916          0     2364   \n",
      "316   2020-04-08    18:39:01           0.183          2     2364   \n",
      "317   2020-04-08    17:00:00           0.833          3     2364   \n",
      "318   2020-04-08    18:34:00           0.266          2        8   \n",
      "\n",
      "                   VENTANA  \n",
      "0             Contingencia  \n",
      "1             Contingencia  \n",
      "2             Contingencia  \n",
      "3             Contingencia  \n",
      "4             Contingencia  \n",
      "..                     ...  \n",
      "314  Mantenimiento Tecnico  \n",
      "315           Contingencia  \n",
      "316           Contingencia  \n",
      "317           Contingencia  \n",
      "318    Recuperacion Manual  \n",
      "\n",
      "[319 rows x 9 columns]\n"
     ]
    }
   ],
   "source": [
    "print(fallas)"
   ]
  }
 ],
 "metadata": {
  "kernelspec": {
   "display_name": "Python 3",
   "language": "python",
   "name": "python3"
  },
  "language_info": {
   "codemirror_mode": {
    "name": "ipython",
    "version": 3
   },
   "file_extension": ".py",
   "mimetype": "text/x-python",
   "name": "python",
   "nbconvert_exporter": "python",
   "pygments_lexer": "ipython3",
   "version": "3.8.8"
  }
 },
 "nbformat": 4,
 "nbformat_minor": 5
}
