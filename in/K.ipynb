{
 "cells": [
  {
   "cell_type": "code",
   "execution_count": 13,
   "id": "bfb4245e",
   "metadata": {
    "scrolled": true
   },
   "outputs": [],
   "source": [
    "import pandas as pd\n",
    "import numpy as np\n",
    "saldos = pd.read_csv('Saldos_Atms_Sucursales.csv',delimiter='|')\n",
    "buc = pd.read_csv('BUC.csv',delimiter='|')\n",
    "fallas = pd.read_csv('Fallas_cajeros.csv',delimiter='|')\n",
    "cerrados = pd.read_csv('Sucursales_cerradas_COVID19.csv',delimiter='|')\n",
    "\n",
    "saldoTotal = (saldos['CAS_1']*saldos['PIEZAS_CAS_1']) + (saldos['CAS_2']*saldos['PIEZAS_CAS_2']) + (saldos['CAS_3']*saldos['PIEZAS_CAS_3']) + (saldos['CAS_4']*saldos['PIEZAS_CAS_4'])\n",
    "saldos['saldoTotal'] = saldoTotal\n",
    "\n",
    "# Depuracion de Dataframe\n",
    "\n",
    "saldoTotalD = saldoTotal.dropna()\n",
    "\n",
    "saldosEntregable = pd.Series(saldoTotalD)\n",
    "#saldos.to_csv('df_Saldos.csv')\n",
    "#saldosEntregable.to_csv('Saldos_Entregable.csv')\n",
    "#print(cerrados['DIVISION'])"
   ]
  },
  {
   "cell_type": "code",
   "execution_count": 14,
   "id": "8d334a88",
   "metadata": {},
   "outputs": [
    {
     "name": "stdout",
     "output_type": "stream",
     "text": [
      "0       1195000.0\n",
      "1        440000.0\n",
      "2        961780.0\n",
      "3        825680.0\n",
      "4       1143000.0\n",
      "          ...    \n",
      "9557    1668600.0\n",
      "9558    1625200.0\n",
      "9559     579400.0\n",
      "9560     534220.0\n",
      "9561     488020.0\n",
      "Length: 9562, dtype: float64\n"
     ]
    }
   ],
   "source": [
    "print(saldoTotalD)"
   ]
  },
  {
   "cell_type": "code",
   "execution_count": 22,
   "id": "0b4b5e3a",
   "metadata": {},
   "outputs": [
    {
     "name": "stdout",
     "output_type": "stream",
     "text": [
      "       CR                                 Sucursal             Divisi�n  \\\n",
      "0       7                          D.F. CHURUBUSCO    METROPOLITANA SUR   \n",
      "1       8                              D.F. MERCED    METROPOLITANA SUR   \n",
      "2       9                               LAS TORRES  METROPOLITANA NORTE   \n",
      "3      11                                 TLANEMEX  METROPOLITANA NORTE   \n",
      "4      14                              D.F. ERMITA    METROPOLITANA SUR   \n",
      "..    ...                                      ...                  ...   \n",
      "883  6603                      TIJUANA UNIVERSIDAD             NOROESTE   \n",
      "884  6614  CD. JUAREZ MODULO ADUANA PUENTE CORDOVA             NOROESTE   \n",
      "885  6758                    URUAPAN BENITO JUAREZ   REGIONAL OCCIDENTE   \n",
      "886  6812           CABO SAN LUCAS OFNA. PRINCIPAL    REGIONAL NOROESTE   \n",
      "887  6865                           CHIHUAHUA 2000             NOROESTE   \n",
      "\n",
      "                    Zona  \n",
      "0          BENITO JUAREZ  \n",
      "1                 CENTRO  \n",
      "2                VALLEJO  \n",
      "3               SATELITE  \n",
      "4             IZTAPALAPA  \n",
      "..                   ...  \n",
      "883        TIJUANA PLAZA  \n",
      "884               JUAREZ  \n",
      "885              URUAPAN  \n",
      "886  BAJA CALIFORNIA SUR  \n",
      "887      CHIHUAHUA PLAZA  \n",
      "\n",
      "[888 rows x 4 columns]\n"
     ]
    }
   ],
   "source": []
  }
 ],
 "metadata": {
  "kernelspec": {
   "display_name": "Python 3",
   "language": "python",
   "name": "python3"
  },
  "language_info": {
   "codemirror_mode": {
    "name": "ipython",
    "version": 3
   },
   "file_extension": ".py",
   "mimetype": "text/x-python",
   "name": "python",
   "nbconvert_exporter": "python",
   "pygments_lexer": "ipython3",
   "version": "3.8.8"
  }
 },
 "nbformat": 4,
 "nbformat_minor": 5
}
