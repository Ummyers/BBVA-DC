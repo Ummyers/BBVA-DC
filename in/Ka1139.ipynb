{
 "cells": [
  {
   "cell_type": "code",
   "execution_count": 16,
   "id": "bfb4245e",
   "metadata": {
    "scrolled": true
   },
   "outputs": [
    {
     "ename": "AttributeError",
     "evalue": "'dict' object has no attribute 'groupby'",
     "output_type": "error",
     "traceback": [
      "\u001b[0;31m---------------------------------------------------------------------------\u001b[0m",
      "\u001b[0;31mAttributeError\u001b[0m                            Traceback (most recent call last)",
      "\u001b[0;32m<ipython-input-16-ca58c04bc76c>\u001b[0m in \u001b[0;36m<module>\u001b[0;34m\u001b[0m\n\u001b[1;32m     28\u001b[0m \u001b[0msaldosEntregable\u001b[0m \u001b[0;34m=\u001b[0m \u001b[0;34m{\u001b[0m\u001b[0;34m'ATM'\u001b[0m\u001b[0;34m:\u001b[0m\u001b[0msaldos\u001b[0m\u001b[0;34m[\u001b[0m\u001b[0;34m'ATM'\u001b[0m\u001b[0;34m]\u001b[0m\u001b[0;34m,\u001b[0m\u001b[0;34m'Total'\u001b[0m\u001b[0;34m:\u001b[0m\u001b[0msaldos\u001b[0m\u001b[0;34m[\u001b[0m\u001b[0;34m'saldoTotal'\u001b[0m\u001b[0;34m]\u001b[0m\u001b[0;34m,\u001b[0m\u001b[0;34m'OK'\u001b[0m\u001b[0;34m:\u001b[0m\u001b[0msaldos\u001b[0m\u001b[0;34m[\u001b[0m\u001b[0;34m'saldosOK'\u001b[0m\u001b[0;34m]\u001b[0m\u001b[0;34m,\u001b[0m \u001b[0;34m'criticidad'\u001b[0m\u001b[0;34m:\u001b[0m\u001b[0msaldos\u001b[0m\u001b[0;34m[\u001b[0m\u001b[0;34m'criticidad'\u001b[0m\u001b[0;34m]\u001b[0m\u001b[0;34m}\u001b[0m\u001b[0;34m\u001b[0m\u001b[0;34m\u001b[0m\u001b[0m\n\u001b[1;32m     29\u001b[0m \u001b[0;34m\u001b[0m\u001b[0m\n\u001b[0;32m---> 30\u001b[0;31m \u001b[0mcriticidadC\u001b[0m \u001b[0;34m=\u001b[0m \u001b[0msaldosEntregable\u001b[0m\u001b[0;34m.\u001b[0m\u001b[0mgroupby\u001b[0m\u001b[0;34m(\u001b[0m\u001b[0;34m[\u001b[0m\u001b[0;34m'criticidad'\u001b[0m\u001b[0;34m]\u001b[0m\u001b[0;34m)\u001b[0m\u001b[0;34m.\u001b[0m\u001b[0mcount\u001b[0m\u001b[0;34m(\u001b[0m\u001b[0;34m)\u001b[0m\u001b[0;34m\u001b[0m\u001b[0;34m\u001b[0m\u001b[0m\n\u001b[0m\u001b[1;32m     31\u001b[0m \u001b[0;34m\u001b[0m\u001b[0m\n\u001b[1;32m     32\u001b[0m \u001b[0;31m# Depurar datos\u001b[0m\u001b[0;34m\u001b[0m\u001b[0;34m\u001b[0m\u001b[0;34m\u001b[0m\u001b[0m\n",
      "\u001b[0;31mAttributeError\u001b[0m: 'dict' object has no attribute 'groupby'"
     ]
    }
   ],
   "source": [
    "#Importamos lo necesario para trabajar\n",
    "import pandas as pd\n",
    "import numpy as np\n",
    "\n",
    "#Se extraen los valores de los Insumos\n",
    "saldos = pd.read_csv('Saldos_Atms_Sucursales.csv',delimiter='|')\n",
    "buc = pd.read_csv('BUC.csv',delimiter='|')\n",
    "fallas = pd.read_csv('Fallas_cajeros.csv',delimiter='|')\n",
    "cerrados = pd.read_csv('Sucursales_cerradas_COVID19.csv',delimiter='|')\n",
    "\n",
    "\n",
    "saldoTotal = (saldos['CAS_1']*saldos['PIEZAS_CAS_1']) + (saldos['CAS_2']*saldos['PIEZAS_CAS_2']) + (saldos['CAS_3']*saldos['PIEZAS_CAS_3']) + (saldos['CAS_4']*saldos['PIEZAS_CAS_4'])\n",
    "saldos['saldoTotal'] = saldoTotal\n",
    "saldoDivision = saldos.groupby('DIVISION')['saldoTotal'].sum()\n",
    "#saldoDivision.to_csv('SaldoDivision.csv')\n",
    "\n",
    "saldos['saldosOK'] = np.where(saldos['saldoTotal'] > saldos['MINIMO'], 'OK', 'Fail')\n",
    "\n",
    "\n",
    "# Se termina el estado de criticidad de un cajero automatico\n",
    "#  con los términos de criticidad establecidos en los requerimientos\n",
    "\n",
    "saldos['criticidad'] = np.where((saldos['saldoTotal'] < ((saldos['MINIMO']*75)/100)), 'A', '')\n",
    "saldos['criticidad'] = np.where((saldos['saldoTotal'] < ((saldos['MINIMO']*50)/100)), 'B', '')\n",
    "saldos['criticidad'] = np.where((saldos['saldoTotal'] < ((saldos['MINIMO']*25)/100)), 'C', '')\n",
    "\n",
    "#Se crea el Data con las columnas necesarias.\n",
    "saldosEntregable = {'ATM':saldos['ATM'],'Total':saldos['saldoTotal'],'OK':saldos['saldosOK'], 'criticidad':saldos['criticidad']}\n",
    "\n",
    "# criticidadC = saldosEntregable.groupby(['criticidad']).count()\n",
    "# tratamos de obtener el número de cajeros con criticidad A, B y C \n",
    "\n",
    "# Depurar datos \n",
    "saldosEntregable = pd.DataFrame(saldosEntregable).dropna()\n",
    "\n",
    "#Se crea un archivo de salida del data frame\n",
    "saldosEntregable.to_csv('Saldos_Entregable.csv')\n",
    "\n",
    "#saldos.to_csv('df_Saldos.csv')\n",
    "\n",
    "print(saldosEntregable)"
   ]
  },
  {
   "cell_type": "code",
   "execution_count": 4,
   "id": "5dd904e9",
   "metadata": {},
   "outputs": [
    {
     "name": "stdout",
     "output_type": "stream",
     "text": [
      "0       1195000.0\n",
      "1        440000.0\n",
      "2        961780.0\n",
      "3        825680.0\n",
      "4       1143000.0\n",
      "          ...    \n",
      "9757          NaN\n",
      "9758          NaN\n",
      "9759          NaN\n",
      "9760          NaN\n",
      "9761          NaN\n",
      "Length: 9762, dtype: float64\n"
     ]
    }
   ],
   "source": [
    "print(saldoTotal)"
   ]
  },
  {
   "cell_type": "code",
   "execution_count": null,
   "id": "d2a0bbe2",
   "metadata": {},
   "outputs": [],
   "source": []
  }
 ],
 "metadata": {
  "kernelspec": {
   "display_name": "Python 3",
   "language": "python",
   "name": "python3"
  },
  "language_info": {
   "codemirror_mode": {
    "name": "ipython",
    "version": 3
   },
   "file_extension": ".py",
   "mimetype": "text/x-python",
   "name": "python",
   "nbconvert_exporter": "python",
   "pygments_lexer": "ipython3",
   "version": "3.8.8"
  }
 },
 "nbformat": 4,
 "nbformat_minor": 5
}
