{
 "cells": [
  {
   "cell_type": "code",
   "execution_count": 6,
   "id": "bfb4245e",
   "metadata": {},
   "outputs": [
    {
     "name": "stdout",
     "output_type": "stream",
     "text": [
      "0       1195000.0\n",
      "1        440000.0\n",
      "2        961780.0\n",
      "3        825680.0\n",
      "4       1143000.0\n",
      "          ...    \n",
      "9757          NaN\n",
      "9758          NaN\n",
      "9759          NaN\n",
      "9760          NaN\n",
      "9761          NaN\n",
      "Length: 9762, dtype: float64\n"
     ]
    }
   ],
   "source": [
    "import pandas as pd\n",
    "\n",
    "saldos = pd.read_csv('Saldos_Atms_Sucursales.csv',delimiter='|')\n",
    "buc = pd.read_csv('BUC.csv',delimiter='|')\n",
    "fallas = pd.read_csv('Fallas_cajeros.csv',delimiter='|')\n",
    "cerrados = pd.read_csv('Sucursales_cerradas_COVID19.csv',delimiter='|')\n",
    "\n",
    "fallas = pd.read_csv('Fallas_cajeros.csv',delimiter='|')\n",
    "cerrados = pd.read_csv('Sucursales_cerradas_COVID19.csv',delimiter='|')\n",
    "saldoTotal = (saldos['CAS_1']*saldos['PIEZAS_CAS_1']) + (saldos['CAS_2']*saldos['PIEZAS_CAS_2']) + (saldos['CAS_3']*saldos['PIEZAS_CAS_3']) + (saldos['CAS_4']*saldos['PIEZAS_CAS_4'])\n",
    "\n",
    "saldosEntregable = pd.Series(saldoTotal)\n",
    "saldosEntregable.to_csv('Saldos_Entregable.csv')\n",
    "print(saldoTotal)\n",
    "\n",
    "# se agrega el trabajar con el archivo Saldos_Entregable \n",
    "saldoTotalCVS = pd.read_csv('Saldos_Entregable.csv', delimiter = ',')\n",
    "\n",
    "\n"
   ]
  },
  {
   "cell_type": "code",
   "execution_count": null,
   "id": "34d75e3e",
   "metadata": {},
   "outputs": [],
   "source": []
  }
 ],
 "metadata": {
  "kernelspec": {
   "display_name": "Python 3",
   "language": "python",
   "name": "python3"
  },
  "language_info": {
   "codemirror_mode": {
    "name": "ipython",
    "version": 3
   },
   "file_extension": ".py",
   "mimetype": "text/x-python",
   "name": "python",
   "nbconvert_exporter": "python",
   "pygments_lexer": "ipython3",
   "version": "3.8.8"
  }
 },
 "nbformat": 4,
 "nbformat_minor": 5
}
