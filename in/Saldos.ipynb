{
 "cells": [
  {
   "cell_type": "code",
   "execution_count": 29,
   "id": "bfb4245e",
   "metadata": {},
   "outputs": [
    {
     "name": "stdout",
     "output_type": "stream",
     "text": [
      "0       1195000.0\n",
      "1        440000.0\n",
      "2        961780.0\n",
      "3        825680.0\n",
      "4       1143000.0\n",
      "          ...    \n",
      "9757          NaN\n",
      "9758          NaN\n",
      "9759          NaN\n",
      "9760          NaN\n",
      "9761          NaN\n",
      "Length: 9762, dtype: float64\n"
     ]
    }
   ],
   "source": [
    "import pandas as pd\n",
    "\n",
    "saldos = pd.read_csv('Saldos_Atms_Sucursales.csv',delimiter='|')\n",
    "buc = pd.read_csv('BUC.csv',delimiter='|')\n",
    "fallas = pd.read_csv('Fallas_cajeros.csv',delimiter='|')\n",
    "cerrados = pd.read_csv('Sucursales_cerradas_COVID19.csv',delimiter='|')\n",
    "\n",
    "fallas = pd.read_csv('Fallas_cajeros.csv',delimiter='|')\n",
    "cerrados = pd.read_csv('Sucursales_cerradas_COVID19.csv',delimiter='|')\n",
    "saldoTotal = (saldos['CAS_1']*saldos['PIEZAS_CAS_1']) + (saldos['CAS_2']*saldos['PIEZAS_CAS_2']) + (saldos['CAS_3']*saldos['PIEZAS_CAS_3']) + (saldos['CAS_4']*saldos['PIEZAS_CAS_4'])\n",
    "\n",
    "\n",
    "saldosEntregable = pd.Series(saldoTotal)\n",
    "saldosEntregable.to_csv('Saldos_Entregable.csv')\n",
    "print(saldoTotal)\n",
    "\n",
    "saldoTotalPrima = saldos.groupby('DIVISION').count()\n",
    "\n",
    "caDiv = saldos.filter(['ATM','DIVISION'])\n",
    "\n",
    "saldoTotalClean = saldoTotal.dropna()\n",
    "\n",
    "\n",
    "# se agrega el trabajar con el archivo Saldos_Entregable \n",
    "saldoTotalCVS = pd.read_csv('Saldos_Entregable.csv', delimiter = ',')\n"
   ]
  },
  {
   "cell_type": "code",
   "execution_count": 30,
   "id": "01b7fffa",
   "metadata": {},
   "outputs": [
    {
     "name": "stdout",
     "output_type": "stream",
     "text": [
      "0       1195000.0\n",
      "1        440000.0\n",
      "2        961780.0\n",
      "3        825680.0\n",
      "4       1143000.0\n",
      "          ...    \n",
      "9557    1668600.0\n",
      "9558    1625200.0\n",
      "9559     579400.0\n",
      "9560     534220.0\n",
      "9561     488020.0\n",
      "Length: 9562, dtype: float64\n"
     ]
    }
   ],
   "source": [
    "print(saldoTotalClean)"
   ]
  },
  {
   "cell_type": "code",
   "execution_count": 28,
   "id": "516f820b",
   "metadata": {},
   "outputs": [
    {
     "name": "stdout",
     "output_type": "stream",
     "text": [
      "       ATM     DIVISION\n",
      "0     A023  METRO NORTE\n",
      "1     A024  METRO NORTE\n",
      "2     D015  METRO NORTE\n",
      "3     D016  METRO NORTE\n",
      "4     0181    METRO SUR\n",
      "...    ...          ...\n",
      "9757   NaN          NaN\n",
      "9758   NaN          NaN\n",
      "9759   NaN          NaN\n",
      "9760   NaN          NaN\n",
      "9761   NaN          NaN\n",
      "\n",
      "[9762 rows x 2 columns]\n"
     ]
    }
   ],
   "source": [
    "print(caDiv)"
   ]
  },
  {
   "cell_type": "code",
   "execution_count": 14,
   "id": "a499b17b",
   "metadata": {},
   "outputs": [
    {
     "name": "stdout",
     "output_type": "stream",
     "text": [
      "       CR   ATM             SUCURSAL      DIVISION             ZONA  CAS_1  \\\n",
      "0     4.0  A023  NAUCALPAN PERIFERICO  METRO NORTE     INTERLOMAS 2  100.0   \n",
      "1     4.0  A024  NAUCALPAN PERIFERICO  METRO NORTE     INTERLOMAS 2  100.0   \n",
      "2     4.0  D015  NAUCALPAN PERIFERICO  METRO NORTE     INTERLOMAS 2   20.0   \n",
      "3     4.0  D016  NAUCALPAN PERIFERICO  METRO NORTE     INTERLOMAS 2   20.0   \n",
      "4     7.0  0181       D.F. CHURUBUSCO    METRO SUR  BENITO JUAREZ 1  100.0   \n",
      "...   ...   ...                   ...          ...              ...    ...   \n",
      "9757  NaN   NaN                   NaN          NaN              NaN    NaN   \n",
      "9758  NaN   NaN                   NaN          NaN              NaN    NaN   \n",
      "9759  NaN   NaN                   NaN          NaN              NaN    NaN   \n",
      "9760  NaN   NaN                   NaN          NaN              NaN    NaN   \n",
      "9761  NaN   NaN                   NaN          NaN              NaN    NaN   \n",
      "\n",
      "      CAS_2  CAS_3  CAS_4  PIEZAS_CAS_1  PIEZAS_CAS_2  PIEZAS_CAS_3  \\\n",
      "0     200.0  200.0  500.0         645.0         333.0         607.0   \n",
      "1     200.0  200.0  500.0          12.0         515.0         749.0   \n",
      "2     100.0  200.0  500.0         459.0         992.0        1282.0   \n",
      "3     100.0  200.0  500.0         539.0         431.0         734.0   \n",
      "4     200.0  500.0  500.0        1717.0        1794.0         721.0   \n",
      "...     ...    ...    ...           ...           ...           ...   \n",
      "9757    NaN    NaN    NaN           NaN           NaN           NaN   \n",
      "9758    NaN    NaN    NaN           NaN           NaN           NaN   \n",
      "9759    NaN    NaN    NaN           NaN           NaN           NaN   \n",
      "9760    NaN    NaN    NaN           NaN           NaN           NaN   \n",
      "9761    NaN    NaN    NaN           NaN           NaN           NaN   \n",
      "\n",
      "      PIEZAS_CAS_4    MINIMO  \n",
      "0           1885.0  450000.0  \n",
      "1            372.0  450000.0  \n",
      "2           1194.0  516000.0  \n",
      "3           1250.0  510000.0  \n",
      "4            504.0  585000.0  \n",
      "...            ...       ...  \n",
      "9757           NaN       NaN  \n",
      "9758           NaN       NaN  \n",
      "9759           NaN       NaN  \n",
      "9760           NaN       NaN  \n",
      "9761           NaN       NaN  \n",
      "\n",
      "[9762 rows x 14 columns]\n"
     ]
    }
   ],
   "source": [
    "print(saldos)"
   ]
  },
  {
   "cell_type": "code",
   "execution_count": 12,
   "id": "ac605944",
   "metadata": {},
   "outputs": [
    {
     "name": "stdout",
     "output_type": "stream",
     "text": [
      "               CR   ATM  SUCURSAL   ZONA  CAS_1  CAS_2  CAS_3  CAS_4  \\\n",
      "DIVISION                                                               \n",
      "BAJIO        1230  1230       1230  1230   1230   1230   1230   1230   \n",
      "METRO NORTE  1337  1337       1337  1337   1337   1337   1337   1337   \n",
      "METRO SUR    1265  1265       1265  1265   1265   1265   1265   1265   \n",
      "NORESTE      1001  1001       1001  1001   1001   1001   1001   1001   \n",
      "NOROESTE     1151  1151       1151  1151   1151   1151   1151   1151   \n",
      "OCCIDENTE    1546  1546       1546  1546   1546   1546   1546   1546   \n",
      "SUR          1303  1303       1303  1303   1303   1303   1303   1303   \n",
      "SURESTE       729   729        729   729    729    729    729    729   \n",
      "\n",
      "             PIEZAS_CAS_1  PIEZAS_CAS_2  PIEZAS_CAS_3  PIEZAS_CAS_4  MINIMO  \n",
      "DIVISION                                                                     \n",
      "BAJIO                1230          1230          1230          1230    1230  \n",
      "METRO NORTE          1337          1337          1337          1337    1337  \n",
      "METRO SUR            1265          1265          1265          1265    1265  \n",
      "NORESTE              1001          1001          1001          1001    1001  \n",
      "NOROESTE             1151          1151          1151          1151    1151  \n",
      "OCCIDENTE            1546          1546          1546          1546    1546  \n",
      "SUR                  1303          1303          1303          1303    1303  \n",
      "SURESTE               729           729           729           729     729  \n"
     ]
    }
   ],
   "source": [
    "print(saldoTotalPrima)"
   ]
  }
 ],
 "metadata": {
  "kernelspec": {
   "display_name": "Python 3",
   "language": "python",
   "name": "python3"
  },
  "language_info": {
   "codemirror_mode": {
    "name": "ipython",
    "version": 3
   },
   "file_extension": ".py",
   "mimetype": "text/x-python",
   "name": "python",
   "nbconvert_exporter": "python",
   "pygments_lexer": "ipython3",
   "version": "3.8.8"
  }
 },
 "nbformat": 4,
 "nbformat_minor": 5
}
